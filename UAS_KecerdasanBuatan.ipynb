{
  "metadata": {
    "kernelspec": {
      "name": "python",
      "display_name": "Python (Pyodide)",
      "language": "python"
    },
    "language_info": {
      "codemirror_mode": {
        "name": "python",
        "version": 3
      },
      "file_extension": ".py",
      "mimetype": "text/x-python",
      "name": "python",
      "nbconvert_exporter": "python",
      "pygments_lexer": "ipython3",
      "version": "3.8"
    }
  },
  "nbformat_minor": 4,
  "nbformat": 4,
  "cells": [
    {
      "cell_type": "markdown",
      "source": "# TensorFlow 2.0 Tutorial: Building a Simple Neural Network\n\nThis notebook demonstrates how to build a simple neural network using TensorFlow 2.0. The goal is to classify handwritten digits from the MNIST dataset.\n\n## Step 1: Import Libraries\n\nFirst, we need to import the necessary libraries.\n## Step 2: Load and Prepare the Data\n\nNext, we load the MNIST dataset and prepare the training and testing data.\n## Step 3: Build the Model\n\nNow, we build a simple neural network model using the Sequential API.\n## Step 4: Train the Model\n\nWe train the model using the training data.\n## Step 5: Evaluate the Model\n\nFinally, we evaluate the model's performance on the test data.\n",
      "metadata": {}
    },
    {
      "cell_type": "code",
      "source": "import tensorflow as tf\nfrom tensorflow.keras.datasets import mnist\nfrom tensorflow.keras.models import Sequential\nfrom tensorflow.keras.layers import Dense, Flatten\nfrom tensorflow.keras.utils import to_categorical\n# Load MNIST dataset\n(x_train, y_train), (x_test, y_test) = mnist.load_data()\n\n# Normalize the data\nx_train, x_test = x_train / 255.0, x_test / 255.0\n\n# One-hot encode the labels\ny_train = to_categorical(y_train, 10)\ny_test = to_categorical(y_test, 10)\n# Build the model\nmodel = Sequential([\n    Flatten(input_shape=(28, 28)),\n    Dense(128, activation='relu'),\n    Dense(10, activation='softmax')\n])\n\n# Compile the model\nmodel.compile(optimizer='adam',\n              loss='categorical_crossentropy',\n              metrics=['accuracy'])\n# Train the model\nmodel.fit(x_train, y_train, epochs=5, validation_data=(x_test, y_test))\n# Evaluate the model\nloss, accuracy = model.evaluate(x_test, y_test)\nprint(f'Test accuracy: {accuracy}')\n",
      "metadata": {
        "trusted": true
      },
      "outputs": [],
      "execution_count": null
    }
  ]
}